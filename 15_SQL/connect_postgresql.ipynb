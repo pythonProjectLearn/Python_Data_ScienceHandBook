{
 "cells": [
  {
   "cell_type": "code",
   "execution_count": 1,
   "metadata": {},
   "outputs": [],
   "source": [
    "import psycopg2"
   ]
  },
  {
   "cell_type": "markdown",
   "metadata": {},
   "source": [
    "# 连接postgresql"
   ]
  },
  {
   "cell_type": "code",
   "execution_count": 6,
   "metadata": {},
   "outputs": [],
   "source": [
    "config = {\n",
    "        'host': 'localhost',\n",
    "        'user': 'postgres',\n",
    "        'password': 'postgres',\n",
    "        'dbname': 'zhoutao',\n",
    "        'port': 5432\n",
    "    }\n",
    "\n",
    "def read_postgresql(config):\n",
    "    try:\n",
    "        conn = psycopg2.connect(**config)\n",
    "        cur = conn.cursor()\n",
    "        sql = \"\"\"select name_stock, datetime_stock,open_price, high_price, low_price, close_price from stock_sz_a where code_stock='000001.SZ' \"\"\"\n",
    "        cur.execute(sql)\n",
    "        stock = cur.fetchall()\n",
    "        conn.commit()\n",
    "        cur.close()\n",
    "        conn.close()\n",
    "        return stock\n",
    "    except (Exception, psycopg2.DatabaseError) as error:\n",
    "        print(error)\n",
    "    finally:\n",
    "        if conn is not None:\n",
    "            conn.close()\n",
    "        \n",
    "        \n",
    "stock = read_postgresql(config)"
   ]
  },
  {
   "cell_type": "code",
   "execution_count": 7,
   "metadata": {},
   "outputs": [
    {
     "data": {
      "text/plain": [
       "('平安银行', datetime.date(1993, 5, 12), 1.5274, 1.5653, 1.5274, 1.5597)"
      ]
     },
     "execution_count": 7,
     "metadata": {},
     "output_type": "execute_result"
    }
   ],
   "source": [
    "stock[0]"
   ]
  },
  {
   "cell_type": "code",
   "execution_count": null,
   "metadata": {},
   "outputs": [],
   "source": []
  }
 ],
 "metadata": {
  "kernelspec": {
   "display_name": "Python 3",
   "language": "python",
   "name": "python3"
  },
  "language_info": {
   "codemirror_mode": {
    "name": "ipython",
    "version": 3
   },
   "file_extension": ".py",
   "mimetype": "text/x-python",
   "name": "python",
   "nbconvert_exporter": "python",
   "pygments_lexer": "ipython3",
   "version": "3.6.4"
  }
 },
 "nbformat": 4,
 "nbformat_minor": 2
}
