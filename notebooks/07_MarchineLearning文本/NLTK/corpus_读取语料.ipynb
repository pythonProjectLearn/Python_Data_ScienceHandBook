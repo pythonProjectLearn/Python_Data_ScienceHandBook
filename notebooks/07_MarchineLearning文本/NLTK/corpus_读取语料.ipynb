{
 "cells": [
  {
   "cell_type": "code",
   "execution_count": 1,
   "metadata": {},
   "outputs": [],
   "source": [
    "import nltk\n",
    "from nltk.corpus import gutenberg as cg\n",
    "from nltk.tokenize import sent_tokenize as st"
   ]
  },
  {
   "cell_type": "code",
   "execution_count": null,
   "metadata": {},
   "outputs": [],
   "source": [
    "# 读取整个语料"
   ]
  },
  {
   "cell_type": "code",
   "execution_count": 7,
   "metadata": {},
   "outputs": [
    {
     "name": "stdout",
     "output_type": "stream",
     "text": [
      "\n",
      "ABSTRACT\n",
      "\n",
      "1. An abstract, or summary, is published together with a research article, giving the reader a \"preview\" of what's to come. Such abstracts may also be published separately in bibliographical sources, such as Biologic al Abstracts. They allow other scientists to quickly scan the large scientific literature, and decide which articles they want to read in depth. The abstract should be a little less technical than the article itself; you don't want to dissuade your potent ial audience from reading your paper.\n",
      "\n",
      "2. Your abstract should be one paragraph, of 100-250 words, which summarizes the purpose, methods, results and conclusions of the paper.\n",
      "\n",
      "3. It is not easy to include all this information in just a few words. Start by writing a summary that includes whatever you think is important, and then gradually prune it down to size by removing unnecessary words, while still retaini ng the necessary concepts.\n",
      "\n",
      "3. Don't use abbreviations or citations in the abstract. It should be able\n"
     ]
    }
   ],
   "source": [
    "raw_content_cg = cg.raw('/home/zt/Documents/Data/NLTK/rawtextcorpus.txt')\n",
    "print(raw_content_cg[0:1000])"
   ]
  },
  {
   "cell_type": "code",
   "execution_count": 4,
   "metadata": {},
   "outputs": [
    {
     "name": "stdout",
     "output_type": "stream",
     "text": [
      "80\n"
     ]
    }
   ],
   "source": [
    "st_list_corpus = st(raw_content_cg)\n",
    "print(len(st_list_corpus))"
   ]
  },
  {
   "cell_type": "code",
   "execution_count": 5,
   "metadata": {},
   "outputs": [
    {
     "data": {
      "text/plain": [
       "['\\nABSTRACT\\n\\n1.',\n",
       " 'An abstract, or summary, is published together with a research article, giving the reader a \"preview\" of what\\'s to come.',\n",
       " 'Such abstracts may also be published separately in bibliographical sources, such as Biologic al Abstracts.',\n",
       " 'They allow other scientists to quickly scan the large scientific literature, and decide which articles they want to read in depth.',\n",
       " \"The abstract should be a little less technical than the article itself; you don't want to dissuade your potent ial audience from reading your paper.\",\n",
       " '2.',\n",
       " 'Your abstract should be one paragraph, of 100-250 words, which summarizes the purpose, methods, results and conclusions of the paper.',\n",
       " '3.',\n",
       " 'It is not easy to include all this information in just a few words.',\n",
       " 'Start by writing a summary that includes whatever you think is important, and then gradually prune it down to size by removing unnecessary words, while still retaini ng the necessary concepts.',\n",
       " '3.',\n",
       " \"Don't use abbreviations or citations in the abstract.\",\n",
       " 'It should be able to stand alone without any footnotes.',\n",
       " 'INTRODUCTION\\n\\nWhat question did you ask in your experiment?',\n",
       " 'Why is it interesting?',\n",
       " 'The introduction summarizes the relevant literature so that the reader will understand why you were interested in the question you asked.',\n",
       " 'One to fo ur paragraphs should be enough.',\n",
       " 'End with a sentence explaining the specific question you asked in this experiment.',\n",
       " 'MATERIALS AND METHODS\\n\\n1.',\n",
       " 'How did you answer this question?',\n",
       " 'There should be enough information here to allow another scientist to repeat your experiment.',\n",
       " 'Look at other papers that have been published in your field to get some idea of what is included in this section.',\n",
       " '2.',\n",
       " 'If you had a complicated protocol, it may helpful to include a diagram, table or flowchart to explain the methods you used.',\n",
       " '3.',\n",
       " 'Do not put results in this section.',\n",
       " 'You may, however, include preliminary results that were used to design the main experiment that you are reporting on.',\n",
       " '(\"In a preliminary study, I observed the owls for one week, and found that 73 % of their locomotor activity occurred during the night, and so I conducted all subsequent experiments between 11 pm and 6 am.\")',\n",
       " '4.',\n",
       " 'Mention relevant ethical considerations.',\n",
       " 'If you used human subjects, did they consent to participate.',\n",
       " 'If you used animals, what measures did you take to minimize pain?',\n",
       " 'RESULTS\\n\\n1.',\n",
       " \"This is where you present the results you've gotten.\",\n",
       " 'Use graphs and tables if appropriate, but also summarize your main findings in the text.',\n",
       " 'Do NOT discuss the results or speculate as to why something happened; t hat goes in th e Discussion.',\n",
       " '2.',\n",
       " \"You don't necessarily have to include all the data you've gotten during the semester.\",\n",
       " \"This isn't a diary.\",\n",
       " '3.',\n",
       " 'Use appropriate methods of showing data.',\n",
       " \"Don't try to manipulate the data to make it look like you did more than you actually did.\",\n",
       " '\"The drug cured 1/3 of the infected mice, another 1/3 were not affected, and the third mouse got away.\"',\n",
       " 'TABLES AND GRAPHS\\n\\n1.',\n",
       " 'If you present your data in a table or graph, include a title describing what\\'s in the table (\"Enzyme activity at various temperatures\", not \"My results\".)',\n",
       " 'For graphs, you should also label the x and y axes.',\n",
       " '2.',\n",
       " 'Don\\'t use a table or graph just to be \"fancy\".',\n",
       " 'If you can summarize the information in one sentence, then a table or graph is not necessary.',\n",
       " 'DISCUSSION\\n\\n1.',\n",
       " \"Highlight the most significant results, but don't just repeat what you've written in the Results section.\",\n",
       " 'How do these results relate to the original question?',\n",
       " 'Do the data support your hypothesis?',\n",
       " 'Are your results consistent with what other investigators have reported?',\n",
       " 'If your results were unexpected, try to explain why.',\n",
       " 'Is there another way to interpret your results?',\n",
       " 'What further research would be necessary to answer the questions raised by your results?',\n",
       " 'How do y our results fit into the big picture?',\n",
       " '2.',\n",
       " 'End with a one-sentence summary of your conclusion, emphasizing why it is relevant.',\n",
       " 'ACKNOWLEDGMENTS\\n\\nThis section is optional.',\n",
       " 'You can thank those who either helped with the experiments, or made other important contributions, such as discussing the protocol, commenting on the manuscript, or buying you pizza.',\n",
       " 'REFERENCES (LITERATURE CITED)\\n\\nThere are several possible ways to organize this section.',\n",
       " 'Here is one commonly used way:\\n\\n1.',\n",
       " 'In the text, cite the literature in the appropriate places:\\n\\nScarlet (1990) thought that the gene was present only in yeast, but it has since been identified in the platypus (Indigo and Mauve, 1994) and wombat (Magenta, et al., 1995).',\n",
       " '2.',\n",
       " 'In the References section list citations in alphabetical order.',\n",
       " 'Indigo, A. C., and Mauve, B. E. 1994.',\n",
       " 'Queer place for qwerty: gene isolation from the platypus.',\n",
       " 'Science 275, 1213-1214.',\n",
       " 'Magenta, S. T., Sepia, X., and Turquoise, U.',\n",
       " '1995.',\n",
       " 'Wombat genetics.',\n",
       " 'In: Widiculous Wombats, Violet, Q., ed.',\n",
       " 'New York: Columbia University Press.',\n",
       " 'p 123-145.',\n",
       " 'Scarlet, S.L.',\n",
       " '1990.',\n",
       " 'Isolation of qwerty gene from S. cerevisae.',\n",
       " 'Journal of Unusual Results 36, 26-31.']"
      ]
     },
     "execution_count": 5,
     "metadata": {},
     "output_type": "execute_result"
    }
   ],
   "source": [
    "st_list_corpus"
   ]
  },
  {
   "cell_type": "code",
   "execution_count": null,
   "metadata": {},
   "outputs": [],
   "source": []
  }
 ],
 "metadata": {
  "kernelspec": {
   "display_name": "Python 3",
   "language": "python",
   "name": "python3"
  },
  "language_info": {
   "codemirror_mode": {
    "name": "ipython",
    "version": 3
   },
   "file_extension": ".py",
   "mimetype": "text/x-python",
   "name": "python",
   "nbconvert_exporter": "python",
   "pygments_lexer": "ipython3",
   "version": "3.6.4"
  }
 },
 "nbformat": 4,
 "nbformat_minor": 2
}
