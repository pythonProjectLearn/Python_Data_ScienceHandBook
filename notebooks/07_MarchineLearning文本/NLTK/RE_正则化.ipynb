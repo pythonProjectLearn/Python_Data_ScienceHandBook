{
 "cells": [
  {
   "cell_type": "markdown",
   "metadata": {},
   "source": [
    "# 正则表达式"
   ]
  },
  {
   "cell_type": "code",
   "execution_count": 2,
   "metadata": {},
   "outputs": [],
   "source": [
    "import re"
   ]
  },
  {
   "cell_type": "markdown",
   "metadata": {},
   "source": [
    "## 1 re.search re.match对比"
   ]
  },
  {
   "cell_type": "markdown",
   "metadata": {},
   "source": [
    "line = \"I love animals.\"\n",
    "matchObj = re.match(r'animals', line, re.M | re.I)\n",
    "if matchObj:\n",
    "    print( \"match: \", matchObj.group())\n",
    "else:\n",
    "    print( \"No match!!\")\n",
    "searchObj = re.search(r'animals', line, re.M | re.I)\n",
    "if searchObj:\n",
    "    print( \"search: \", searchObj.group())\n",
    "else:\n",
    "    print( \"Nothing found!!\")"
   ]
  },
  {
   "cell_type": "markdown",
   "metadata": {},
   "source": [
    "## 2 re.findall() re.search() re.sub()对比"
   ]
  },
  {
   "cell_type": "code",
   "execution_count": 5,
   "metadata": {},
   "outputs": [],
   "source": [
    "line = \"This is test sentence and test sentence is also a sentence.\"\n",
    "contactInfo = 'Doe, John: 1111-1212'"
   ]
  },
  {
   "cell_type": "markdown",
   "metadata": {},
   "source": [
    "### re.findadd()  找到所有匹配的"
   ]
  },
  {
   "cell_type": "code",
   "execution_count": 6,
   "metadata": {},
   "outputs": [
    {
     "name": "stdout",
     "output_type": "stream",
     "text": [
      "['sentence', 'sentence', 'sentence']\n"
     ]
    }
   ],
   "source": [
    "# re.findall() finds all occurences of sentence from line variable.\n",
    "findallobj = re.findall(r'sentence', line)\n",
    "print( findallobj)"
   ]
  },
  {
   "cell_type": "code",
   "execution_count": null,
   "metadata": {},
   "outputs": [],
   "source": [
    "### re.search()"
   ]
  },
  {
   "cell_type": "code",
   "execution_count": 8,
   "metadata": {},
   "outputs": [
    {
     "name": "stdout",
     "output_type": "stream",
     "text": [
      "1st group ------- Doe\n",
      "2nd group ------- John\n",
      "3rd group ------- 1111-1212\n"
     ]
    }
   ],
   "source": [
    "# re.search() and group wise extraction\n",
    "groupwiseobj = re.search(r'(\\w+), (\\w+): (\\S+)', contactInfo)\n",
    "print( \"1st group ------- \" + groupwiseobj.group(1))\n",
    "print( \"2nd group ------- \" + groupwiseobj.group(2))\n",
    "print( \"3rd group ------- \" + groupwiseobj.group(3))"
   ]
  },
  {
   "cell_type": "markdown",
   "metadata": {},
   "source": [
    "### re.sub()取一部分"
   ]
  },
  {
   "cell_type": "code",
   "execution_count": 10,
   "metadata": {},
   "outputs": [
    {
     "name": "stdout",
     "output_type": "stream",
     "text": [
      "Phone Num :  1111-2222-3333 \n"
     ]
    },
    {
     "data": {
      "text/plain": [
       "'Doe, Peter: 1111-1212'"
      ]
     },
     "execution_count": 10,
     "metadata": {},
     "output_type": "execute_result"
    }
   ],
   "source": [
    "# re.sub() replace string\n",
    "phone = \"1111-2222-3333 # This is Phone Number\"\n",
    "\n",
    "# Delete Python-style comments\n",
    "num = re.sub(r'#.*$', \"\", phone)\n",
    "print( \"Phone Num : \", num)\n",
    "\n",
    "# Replace John to Peter  in contactInfo\n",
    "contactInforevised = re.sub(r'John', \"Peter\", contactInfo)\n",
    "contactInforevised"
   ]
  },
  {
   "cell_type": "code",
   "execution_count": null,
   "metadata": {},
   "outputs": [],
   "source": [
    "# 高级正则表达式"
   ]
  },
  {
   "cell_type": "code",
   "execution_count": 11,
   "metadata": {},
   "outputs": [
    {
     "name": "stdout",
     "output_type": "stream",
     "text": [
      "Positive lookahead: ['play']\n",
      "Positive lookahead character index: (10, 14)\n",
      "Positive lookbehind: ['ground']\n",
      "Positive lookbehind character index: (14, 20)\n",
      "Negative lookahead: ['play']\n",
      "Negative lookahead character index: (2, 6)\n",
      "negative lookbehind: ['ground']\n",
      "Negative lookbehind character index: (37, 43)\n"
     ]
    }
   ],
   "source": [
    "text = \"I play on playground. It is the best ground.\"\n",
    "\n",
    "positivelookaheadobjpattern = re.findall(r'play(?=ground)',text,re.M | re.I)\n",
    "print( \"Positive lookahead: \" + str(positivelookaheadobjpattern))\n",
    "positivelookaheadobj = re.search(r'play(?=ground)',text,re.M | re.I)\n",
    "print( \"Positive lookahead character index: \"+ str(positivelookaheadobj.span()))\n",
    "\n",
    "\n",
    "\n",
    "possitivelookbehindobjpattern = re.findall(r'(?<=play)ground',text,re.M | re.I)\n",
    "print( \"Positive lookbehind: \" + str(possitivelookbehindobjpattern))\n",
    "possitivelookbehindobj = re.search(r'(?<=play)ground',text,re.M | re.I)\n",
    "print( \"Positive lookbehind character index: \" + str(possitivelookbehindobj.span()))\n",
    "\n",
    "\n",
    "negativelookaheadobjpattern = re.findall(r'play(?!ground)', text, re.M | re.I)\n",
    "print( \"Negative lookahead: \" + str(negativelookaheadobjpattern))\n",
    "negativelookaheadobj = re.search(r'play(?!ground)', text, re.M | re.I)\n",
    "print( \"Negative lookahead character index: \" + str(negativelookaheadobj.span()))\n",
    "\n",
    "\n",
    "negativelookbehindobjpattern = re.findall(r'(?<!play)ground', text, re.M | re.I)\n",
    "print( \"negative lookbehind: \" + str(negativelookbehindobjpattern))\n",
    "negativelookbehindobj = re.search(r'(?<!play)ground', text, re.M | re.I)\n",
    "print( \"Negative lookbehind character index: \" + str(negativelookbehindobj.span()))"
   ]
  },
  {
   "cell_type": "code",
   "execution_count": null,
   "metadata": {},
   "outputs": [],
   "source": []
  }
 ],
 "metadata": {
  "kernelspec": {
   "display_name": "Python 3",
   "language": "python",
   "name": "python3"
  },
  "language_info": {
   "codemirror_mode": {
    "name": "ipython",
    "version": 3
   },
   "file_extension": ".py",
   "mimetype": "text/x-python",
   "name": "python",
   "nbconvert_exporter": "python",
   "pygments_lexer": "ipython3",
   "version": "3.6.4"
  }
 },
 "nbformat": 4,
 "nbformat_minor": 2
}
