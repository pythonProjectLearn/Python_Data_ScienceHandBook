{
 "cells": [
  {
   "cell_type": "code",
   "execution_count": 1,
   "metadata": {},
   "outputs": [],
   "source": [
    "import psycopg2\n",
    "import pandas as pd"
   ]
  },
  {
   "cell_type": "code",
   "execution_count": 43,
   "metadata": {},
   "outputs": [],
   "source": [
    "import talib"
   ]
  },
  {
   "cell_type": "code",
   "execution_count": 31,
   "metadata": {},
   "outputs": [],
   "source": [
    "class Postgresql(object):\n",
    "    def __init__(self, host, port, user, password, database):\n",
    "        try:\n",
    "            self.conn = psycopg2.connect(host=host, port=port, user=user, password=password, database=database)\n",
    "        except psycopg2.DatabaseError as e:\n",
    "            print('连接postgresql失败', e)\n",
    "        \n",
    "    def selectSql(self, sql):\n",
    "        with self.conn.cursor() as cursor:            \n",
    "            try:\n",
    "                cursor.execute(sql)\n",
    "                result = cursor.fetchall()\n",
    "                return result\n",
    "            except psycopg2.Error as e:\n",
    "                self.conn.rollback()\n",
    "                print('select事务失败', e)\n",
    "    def insertSql(self, sql):\n",
    "        with self.conn.cursor() as cursor:\n",
    "            try:\n",
    "                cursor.execute(sql)\n",
    "                self.conn.commit()\n",
    "                self.conn.close()\n",
    "            except psycopg2.Error as e:\n",
    "                self.conn.rollback()\n",
    "                print(\"insert 事务失败\", e)\n",
    "                \n",
    "    def updateSql(self, sql):\n",
    "        with self.conn.cursor() as cursor:\n",
    "            try:\n",
    "                cursor.execute(sql)\n",
    "                self.conn.commit()\n",
    "                self.conn.close()\n",
    "            except psycopg2.Error as e:\n",
    "                self.conn.rollback()\n",
    "                print(\"insert 事务失败\", e)\n",
    "    def delSql(self, sql):\n",
    "        with self.conn.cursor() as cursor:\n",
    "            try:\n",
    "                cursor.execute(sql)\n",
    "                self.conn.commit()\n",
    "                self.conn.close()\n",
    "            except psycopg2.Error as e:\n",
    "                self.conn.rollback()\n",
    "                print(\"insert 事务失败\", e)\n",
    "\n",
    "        "
   ]
  },
  {
   "cell_type": "code",
   "execution_count": 32,
   "metadata": {},
   "outputs": [],
   "source": [
    "ps = Postgresql('localhost', '5432', 'postgres', 'postgres','zhoutao')"
   ]
  },
  {
   "cell_type": "code",
   "execution_count": 37,
   "metadata": {},
   "outputs": [],
   "source": [
    "result = ps.selectSql(\"select code, name, last_price,high_price, low_price,open_price from stocks_a where code='600117'\")"
   ]
  },
  {
   "cell_type": "code",
   "execution_count": 40,
   "metadata": {},
   "outputs": [],
   "source": [
    "df = pd.DataFrame(result, columns=['code', 'name', 'last_price','high_price', 'low_price','open_price'])"
   ]
  },
  {
   "cell_type": "code",
   "execution_count": 41,
   "metadata": {},
   "outputs": [
    {
     "data": {
      "text/html": [
       "<div>\n",
       "<style scoped>\n",
       "    .dataframe tbody tr th:only-of-type {\n",
       "        vertical-align: middle;\n",
       "    }\n",
       "\n",
       "    .dataframe tbody tr th {\n",
       "        vertical-align: top;\n",
       "    }\n",
       "\n",
       "    .dataframe thead th {\n",
       "        text-align: right;\n",
       "    }\n",
       "</style>\n",
       "<table border=\"1\" class=\"dataframe\">\n",
       "  <thead>\n",
       "    <tr style=\"text-align: right;\">\n",
       "      <th></th>\n",
       "      <th>code</th>\n",
       "      <th>name</th>\n",
       "      <th>last_price</th>\n",
       "      <th>high_price</th>\n",
       "      <th>low_price</th>\n",
       "      <th>open_price</th>\n",
       "    </tr>\n",
       "  </thead>\n",
       "  <tbody>\n",
       "    <tr>\n",
       "      <th>0</th>\n",
       "      <td>600117</td>\n",
       "      <td>西宁特钢</td>\n",
       "      <td>4.80</td>\n",
       "      <td>4.80</td>\n",
       "      <td>4.27</td>\n",
       "      <td>4.32</td>\n",
       "    </tr>\n",
       "    <tr>\n",
       "      <th>1</th>\n",
       "      <td>600117</td>\n",
       "      <td>西宁特钢</td>\n",
       "      <td>4.88</td>\n",
       "      <td>5.26</td>\n",
       "      <td>4.71</td>\n",
       "      <td>4.80</td>\n",
       "    </tr>\n",
       "    <tr>\n",
       "      <th>2</th>\n",
       "      <td>600117</td>\n",
       "      <td>西宁特钢</td>\n",
       "      <td>4.55</td>\n",
       "      <td>4.80</td>\n",
       "      <td>4.39</td>\n",
       "      <td>4.53</td>\n",
       "    </tr>\n",
       "    <tr>\n",
       "      <th>3</th>\n",
       "      <td>600117</td>\n",
       "      <td>西宁特钢</td>\n",
       "      <td>5.01</td>\n",
       "      <td>5.01</td>\n",
       "      <td>4.55</td>\n",
       "      <td>4.57</td>\n",
       "    </tr>\n",
       "    <tr>\n",
       "      <th>4</th>\n",
       "      <td>600117</td>\n",
       "      <td>西宁特钢</td>\n",
       "      <td>5.51</td>\n",
       "      <td>5.51</td>\n",
       "      <td>5.16</td>\n",
       "      <td>5.24</td>\n",
       "    </tr>\n",
       "  </tbody>\n",
       "</table>\n",
       "</div>"
      ],
      "text/plain": [
       "     code  name  last_price  high_price  low_price  open_price\n",
       "0  600117  西宁特钢        4.80        4.80       4.27        4.32\n",
       "1  600117  西宁特钢        4.88        5.26       4.71        4.80\n",
       "2  600117  西宁特钢        4.55        4.80       4.39        4.53\n",
       "3  600117  西宁特钢        5.01        5.01       4.55        4.57\n",
       "4  600117  西宁特钢        5.51        5.51       5.16        5.24"
      ]
     },
     "execution_count": 41,
     "metadata": {},
     "output_type": "execute_result"
    }
   ],
   "source": []
  },
  {
   "cell_type": "code",
   "execution_count": null,
   "metadata": {},
   "outputs": [],
   "source": [
    "#talib计算的CCI指标\n",
    "cci = talib.CCI(df['high_price'].values, df['low_price'].values, df['last_price'].values, timeperiod=21)\n",
    "cci_avg = tablib.SMA(cci, 60)\n",
    "\n",
    "if cci[-1] > 100:\n",
    "    if cci[-2] < 100:\n",
    "        if bar_dict[context.s1].is_trading:\n",
    "            order_target_percent(context.s1, 0.98)\n",
    "    if (cci_avg[-1] > cci[-1] and cci_avg[-2] < cci[-2]):\n",
    "        if bar_dict[context.s1].is_trading:\n",
    "            order_target_percent(context.s1, 0)\n",
    "if cci[-2] < -100:\n",
    "    if cci[-1] > -100:\n",
    "        if bar_dict[context.s1].is_trading:\n",
    "            order_target_percent(context.s1, 0)\n",
    "    if (cci_avg[-1] < cci[-1] and cci_avg[-2] > cci[-2]):\n",
    "        if bar_dict[context.s1].is_trading:\n",
    "            order_target_percent(context.s1, 0.98)"
   ]
  },
  {
   "cell_type": "code",
   "execution_count": 44,
   "metadata": {},
   "outputs": [],
   "source": [
    "cci = talib.CCI(df['high_price'].values, df['low_price'].values, df['last_price'].values, timeperiod=21)"
   ]
  },
  {
   "cell_type": "code",
   "execution_count": 45,
   "metadata": {},
   "outputs": [
    {
     "data": {
      "text/plain": [
       "array([          nan,           nan,           nan,           nan,\n",
       "                 nan,           nan,           nan,           nan,\n",
       "                 nan,           nan,           nan,           nan,\n",
       "                 nan,           nan,           nan,           nan,\n",
       "                 nan,           nan,           nan,           nan,\n",
       "        -57.34656787,  -54.64240011,  -65.21937218,  -75.99706946,\n",
       "        -61.24882755,  -31.49264191,   -3.39092524,   45.58622737,\n",
       "         62.18308496,   60.39101092,  104.07494479,   74.24471844,\n",
       "         39.69205715,  -14.42717978,  -52.10727969,  -50.70737822,\n",
       "        -86.62060302,  -54.55120101,   75.05081301,  132.35341365,\n",
       "        108.33787466,   98.35102778,   99.32329186,   45.47171236,\n",
       "         -1.10694965,    1.02339181,   51.34250164,   71.32148806,\n",
       "         47.95134443,   -6.43992194,  -30.70967742,  -35.50869194,\n",
       "         -3.76013283,    7.3512252 ,  -94.49866054, -129.9847793 ,\n",
       "       -134.9905838 , -117.21633294, -160.34977064])"
      ]
     },
     "execution_count": 45,
     "metadata": {},
     "output_type": "execute_result"
    }
   ],
   "source": [
    "cci"
   ]
  },
  {
   "cell_type": "code",
   "execution_count": 50,
   "metadata": {},
   "outputs": [],
   "source": [
    "cci_avg = talib.SMA(cci, 5)"
   ]
  },
  {
   "cell_type": "code",
   "execution_count": 51,
   "metadata": {},
   "outputs": [
    {
     "data": {
      "text/plain": [
       "array([          nan,           nan,           nan,           nan,\n",
       "                 nan,           nan,           nan,           nan,\n",
       "                 nan,           nan,           nan,           nan,\n",
       "                 nan,           nan,           nan,           nan,\n",
       "                 nan,           nan,           nan,           nan,\n",
       "                 nan,           nan,           nan,           nan,\n",
       "        -62.89084744,  -57.72006224,  -47.46976727,  -25.30864736,\n",
       "          2.32738353,   26.65535122,   53.76886856,   69.2959973 ,\n",
       "         68.11716325,   52.7951103 ,   30.29545218,   -0.66101242,\n",
       "        -32.83407671,  -51.68272834,  -33.78712979,    3.10500888,\n",
       "         34.91405946,   71.90838562,  102.68328419,   96.76746406,\n",
       "         70.0753914 ,   48.61249483,   39.21078961,   33.61042885,\n",
       "         34.10635526,   33.0397608 ,   26.69314695,    9.32290824,\n",
       "         -5.69341594,  -13.81343978,  -31.4251875 ,  -51.28020788,\n",
       "        -71.17658625,  -93.86782628, -127.40802545])"
      ]
     },
     "execution_count": 51,
     "metadata": {},
     "output_type": "execute_result"
    }
   ],
   "source": [
    "cci_avg"
   ]
  },
  {
   "cell_type": "code",
   "execution_count": null,
   "metadata": {},
   "outputs": [],
   "source": []
  }
 ],
 "metadata": {
  "kernelspec": {
   "display_name": "Python 3",
   "language": "python",
   "name": "python3"
  },
  "language_info": {
   "codemirror_mode": {
    "name": "ipython",
    "version": 3
   },
   "file_extension": ".py",
   "mimetype": "text/x-python",
   "name": "python",
   "nbconvert_exporter": "python",
   "pygments_lexer": "ipython3",
   "version": "3.6.4"
  }
 },
 "nbformat": 4,
 "nbformat_minor": 2
}
