{
 "cells": [
  {
   "cell_type": "markdown",
   "metadata": {},
   "source": [
    "# KDJ\n",
    "\n",
    "被广泛用于股市的中短期趋势分析，是期货和股票市场上最常用的技术分析工具。\n",
    "\n",
    "https://baike.baidu.com/item/KDJ%E6%8C%87%E6%A0%87/6328421?fromtitle=%E9%9A%8F%E6%9C%BA%E6%8C%87%E6%A0%87&fromid=9401249"
   ]
  },
  {
   "cell_type": "markdown",
   "metadata": {},
   "source": [
    "# 计算方法\n",
    "\n",
    "KDJ的计算比较复杂，首先要计算周期（n日、n周等）的RSV值，即未成熟随机指标值，然后再计算K值、D值、J值等\n",
    "\n",
    "1 以n日KDJ数值的计算为例.\n",
    "\n",
    "   RSV值, K值,D值,J值\n",
    "\n",
    ">$n日RSV=（Cn－Ln）/（Hn－Ln）×100$\n",
    "\n",
    ">$当日K值=2/3×前一日K值+1/3×当日RSV$\n",
    "\n",
    ">$当日D值=2/3×前一日D值+1/3×当日K值$\n",
    "\n",
    ">$J值=3*当日K值-2*当日D值$\n",
    "\n",
    "**若无前一日K 值与D值，则可分别用50来代替。\n",
    "公式中，Cn为第n日收盘价；Ln为n日内的最低价；Hn为n日内的最高价。**\n",
    "\n",
    "2 举例\n",
    "    以9日为周期的KD线为例，即未成熟随机值，计算公式为\n",
    "\n",
    "    9日RSV=（C－L9）÷（H9－L9）×100\n",
    "\n",
    "    公式中，C为第9日的收盘价；L9为9日内的最低价；H9为9日内的最高价。\n",
    "\n",
    "    K值=2/3×第8日K值+1/3×第9日RSV\n",
    "\n",
    "    D值=2/3×第8日D值+1/3×第9日K值\n",
    "\n",
    "    J值=3*第9日K值-2*第9日D值\n",
    "\n",
    "    若无前一日K值与D值，则可以分别用50代替"
   ]
  },
  {
   "cell_type": "code",
   "execution_count": null,
   "metadata": {},
   "outputs": [],
   "source": [
    "# "
   ]
  }
 ],
 "metadata": {
  "kernelspec": {
   "display_name": "Python 3",
   "language": "python",
   "name": "python3"
  },
  "language_info": {
   "codemirror_mode": {
    "name": "ipython",
    "version": 3
   },
   "file_extension": ".py",
   "mimetype": "text/x-python",
   "name": "python",
   "nbconvert_exporter": "python",
   "pygments_lexer": "ipython3",
   "version": "3.6.4"
  }
 },
 "nbformat": 4,
 "nbformat_minor": 2
}
