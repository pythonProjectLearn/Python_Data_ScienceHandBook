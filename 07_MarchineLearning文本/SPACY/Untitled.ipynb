{
 "cells": [
  {
   "cell_type": "code",
   "execution_count": null,
   "metadata": {},
   "outputs": [],
   "source": [
    "import spacy\n",
    "from spacy.en import English\n"
   ]
  },
  {
   "cell_type": "code",
   "execution_count": null,
   "metadata": {},
   "outputs": [],
   "source": [
    "parser = English()\n",
    "nlp = spacy.load('en')\n",
    "def spacyparserdemo():\n",
    "        example = u\"The boy with the spotted dog quickly ran after the firetruck.\"\n",
    "        parsedEx = parser(example)\n",
    "        # shown as: original token, dependency tag, head word, left dependents, right dependents\n",
    "        print \"\\n-----------original token, dependency tag, head word, left dependents, right dependents-------\\n\"\n",
    "        for token in parsedEx:\n",
    "            print(\n",
    "            token.orth_, token.dep_, token.head.orth_, [t.orth_ for t in token.lefts], [t.orth_ for t in token.rights])\n",
    "\n",
    "            \n",
    "spacyparserdemo()"
   ]
  },
  {
   "cell_type": "code",
   "execution_count": null,
   "metadata": {},
   "outputs": [],
   "source": [
    "nlp = spacy.load('en')\n",
    "doc = nlp(u'London is a big city in the United Kingdom.')\n",
    "print \"\\n-------Example 1 ------\\n\"\n",
    "for ent in doc.ents:\n",
    "    print(ent.label_, ent.text)\n",
    "    # GPE London\n",
    "    # GPE United Kingdom\n",
    "doc1 = nlp(u'While in France, Christine Lagarde discussed short-term stimulus efforts in a '\n",
    "           u'recent interview on 5:00 P.M. with the Wall Street Journal')\n",
    "print \"\\n-------Example 2 ------\\n\"\n",
    "for ent1 in doc1.ents:\n",
    "    print(ent1.label_, ent1.text)"
   ]
  }
 ],
 "metadata": {
  "kernelspec": {
   "display_name": "Python 3",
   "language": "python",
   "name": "python3"
  },
  "language_info": {
   "codemirror_mode": {
    "name": "ipython",
    "version": 3
   },
   "file_extension": ".py",
   "mimetype": "text/x-python",
   "name": "python",
   "nbconvert_exporter": "python",
   "pygments_lexer": "ipython3",
   "version": "3.6.4"
  }
 },
 "nbformat": 4,
 "nbformat_minor": 2
}
